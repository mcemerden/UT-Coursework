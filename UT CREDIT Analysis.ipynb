{
 "cells": [
  {
   "cell_type": "code",
   "execution_count": 1,
   "metadata": {},
   "outputs": [],
   "source": [
    "import pandas as pd\n",
    "import numpy as np\n",
    "import matplotlib.pyplot as plt\n",
    "import seaborn as sns "
   ]
  },
  {
   "cell_type": "code",
   "execution_count": 2,
   "metadata": {
    "scrolled": true
   },
   "outputs": [
    {
     "data": {
      "text/html": [
       "<div>\n",
       "<style scoped>\n",
       "    .dataframe tbody tr th:only-of-type {\n",
       "        vertical-align: middle;\n",
       "    }\n",
       "\n",
       "    .dataframe tbody tr th {\n",
       "        vertical-align: top;\n",
       "    }\n",
       "\n",
       "    .dataframe thead th {\n",
       "        text-align: right;\n",
       "    }\n",
       "</style>\n",
       "<table border=\"1\" class=\"dataframe\">\n",
       "  <thead>\n",
       "    <tr style=\"text-align: right;\">\n",
       "      <th></th>\n",
       "      <th>ID</th>\n",
       "      <th>LIMIT_BAL</th>\n",
       "      <th>SEX</th>\n",
       "      <th>EDUCATION</th>\n",
       "      <th>MARRIAGE</th>\n",
       "      <th>AGE</th>\n",
       "      <th>PAY_0</th>\n",
       "      <th>PAY_2</th>\n",
       "      <th>PAY_3</th>\n",
       "      <th>PAY_4</th>\n",
       "      <th>...</th>\n",
       "      <th>BILL_AMT4</th>\n",
       "      <th>BILL_AMT5</th>\n",
       "      <th>BILL_AMT6</th>\n",
       "      <th>PAY_AMT1</th>\n",
       "      <th>PAY_AMT2</th>\n",
       "      <th>PAY_AMT3</th>\n",
       "      <th>PAY_AMT4</th>\n",
       "      <th>PAY_AMT5</th>\n",
       "      <th>PAY_AMT6</th>\n",
       "      <th>default payment next month</th>\n",
       "    </tr>\n",
       "  </thead>\n",
       "  <tbody>\n",
       "    <tr>\n",
       "      <td>0</td>\n",
       "      <td>1</td>\n",
       "      <td>20000</td>\n",
       "      <td>2</td>\n",
       "      <td>2</td>\n",
       "      <td>1</td>\n",
       "      <td>24</td>\n",
       "      <td>2</td>\n",
       "      <td>2</td>\n",
       "      <td>-1</td>\n",
       "      <td>-1</td>\n",
       "      <td>...</td>\n",
       "      <td>0</td>\n",
       "      <td>0</td>\n",
       "      <td>0</td>\n",
       "      <td>0</td>\n",
       "      <td>689</td>\n",
       "      <td>0</td>\n",
       "      <td>0</td>\n",
       "      <td>0</td>\n",
       "      <td>0</td>\n",
       "      <td>1</td>\n",
       "    </tr>\n",
       "    <tr>\n",
       "      <td>1</td>\n",
       "      <td>2</td>\n",
       "      <td>120000</td>\n",
       "      <td>2</td>\n",
       "      <td>2</td>\n",
       "      <td>2</td>\n",
       "      <td>26</td>\n",
       "      <td>-1</td>\n",
       "      <td>2</td>\n",
       "      <td>0</td>\n",
       "      <td>0</td>\n",
       "      <td>...</td>\n",
       "      <td>3272</td>\n",
       "      <td>3455</td>\n",
       "      <td>3261</td>\n",
       "      <td>0</td>\n",
       "      <td>1000</td>\n",
       "      <td>1000</td>\n",
       "      <td>1000</td>\n",
       "      <td>0</td>\n",
       "      <td>2000</td>\n",
       "      <td>1</td>\n",
       "    </tr>\n",
       "    <tr>\n",
       "      <td>2</td>\n",
       "      <td>3</td>\n",
       "      <td>90000</td>\n",
       "      <td>2</td>\n",
       "      <td>2</td>\n",
       "      <td>2</td>\n",
       "      <td>34</td>\n",
       "      <td>0</td>\n",
       "      <td>0</td>\n",
       "      <td>0</td>\n",
       "      <td>0</td>\n",
       "      <td>...</td>\n",
       "      <td>14331</td>\n",
       "      <td>14948</td>\n",
       "      <td>15549</td>\n",
       "      <td>1518</td>\n",
       "      <td>1500</td>\n",
       "      <td>1000</td>\n",
       "      <td>1000</td>\n",
       "      <td>1000</td>\n",
       "      <td>5000</td>\n",
       "      <td>0</td>\n",
       "    </tr>\n",
       "    <tr>\n",
       "      <td>3</td>\n",
       "      <td>4</td>\n",
       "      <td>50000</td>\n",
       "      <td>2</td>\n",
       "      <td>2</td>\n",
       "      <td>1</td>\n",
       "      <td>37</td>\n",
       "      <td>0</td>\n",
       "      <td>0</td>\n",
       "      <td>0</td>\n",
       "      <td>0</td>\n",
       "      <td>...</td>\n",
       "      <td>28314</td>\n",
       "      <td>28959</td>\n",
       "      <td>29547</td>\n",
       "      <td>2000</td>\n",
       "      <td>2019</td>\n",
       "      <td>1200</td>\n",
       "      <td>1100</td>\n",
       "      <td>1069</td>\n",
       "      <td>1000</td>\n",
       "      <td>0</td>\n",
       "    </tr>\n",
       "    <tr>\n",
       "      <td>4</td>\n",
       "      <td>5</td>\n",
       "      <td>50000</td>\n",
       "      <td>1</td>\n",
       "      <td>2</td>\n",
       "      <td>1</td>\n",
       "      <td>57</td>\n",
       "      <td>-1</td>\n",
       "      <td>0</td>\n",
       "      <td>-1</td>\n",
       "      <td>0</td>\n",
       "      <td>...</td>\n",
       "      <td>20940</td>\n",
       "      <td>19146</td>\n",
       "      <td>19131</td>\n",
       "      <td>2000</td>\n",
       "      <td>36681</td>\n",
       "      <td>10000</td>\n",
       "      <td>9000</td>\n",
       "      <td>689</td>\n",
       "      <td>679</td>\n",
       "      <td>0</td>\n",
       "    </tr>\n",
       "  </tbody>\n",
       "</table>\n",
       "<p>5 rows × 25 columns</p>\n",
       "</div>"
      ],
      "text/plain": [
       "   ID  LIMIT_BAL  SEX  EDUCATION  MARRIAGE  AGE  PAY_0  PAY_2  PAY_3  PAY_4  \\\n",
       "0   1      20000    2          2         1   24      2      2     -1     -1   \n",
       "1   2     120000    2          2         2   26     -1      2      0      0   \n",
       "2   3      90000    2          2         2   34      0      0      0      0   \n",
       "3   4      50000    2          2         1   37      0      0      0      0   \n",
       "4   5      50000    1          2         1   57     -1      0     -1      0   \n",
       "\n",
       "   ...  BILL_AMT4  BILL_AMT5  BILL_AMT6  PAY_AMT1  PAY_AMT2  PAY_AMT3  \\\n",
       "0  ...          0          0          0         0       689         0   \n",
       "1  ...       3272       3455       3261         0      1000      1000   \n",
       "2  ...      14331      14948      15549      1518      1500      1000   \n",
       "3  ...      28314      28959      29547      2000      2019      1200   \n",
       "4  ...      20940      19146      19131      2000     36681     10000   \n",
       "\n",
       "   PAY_AMT4  PAY_AMT5  PAY_AMT6  default payment next month  \n",
       "0         0         0         0                           1  \n",
       "1      1000         0      2000                           1  \n",
       "2      1000      1000      5000                           0  \n",
       "3      1100      1069      1000                           0  \n",
       "4      9000       689       679                           0  \n",
       "\n",
       "[5 rows x 25 columns]"
      ]
     },
     "execution_count": 2,
     "metadata": {},
     "output_type": "execute_result"
    }
   ],
   "source": [
    "credit = pd.read_csv(\"CCDefaults.csv\", header =1)\n",
    "\n",
    "credit.head()\n"
   ]
  },
  {
   "cell_type": "code",
   "execution_count": 3,
   "metadata": {},
   "outputs": [
    {
     "data": {
      "text/html": [
       "<div>\n",
       "<style scoped>\n",
       "    .dataframe tbody tr th:only-of-type {\n",
       "        vertical-align: middle;\n",
       "    }\n",
       "\n",
       "    .dataframe tbody tr th {\n",
       "        vertical-align: top;\n",
       "    }\n",
       "\n",
       "    .dataframe thead th {\n",
       "        text-align: right;\n",
       "    }\n",
       "</style>\n",
       "<table border=\"1\" class=\"dataframe\">\n",
       "  <thead>\n",
       "    <tr style=\"text-align: right;\">\n",
       "      <th></th>\n",
       "      <th>ID</th>\n",
       "      <th>LIMIT_BAL</th>\n",
       "      <th>SEX</th>\n",
       "      <th>EDUCATION</th>\n",
       "      <th>MARRIAGE</th>\n",
       "      <th>AGE</th>\n",
       "      <th>PAY_0</th>\n",
       "      <th>PAY_2</th>\n",
       "      <th>PAY_3</th>\n",
       "      <th>PAY_4</th>\n",
       "      <th>...</th>\n",
       "      <th>BILL_AMT4</th>\n",
       "      <th>BILL_AMT5</th>\n",
       "      <th>BILL_AMT6</th>\n",
       "      <th>PAY_AMT1</th>\n",
       "      <th>PAY_AMT2</th>\n",
       "      <th>PAY_AMT3</th>\n",
       "      <th>PAY_AMT4</th>\n",
       "      <th>PAY_AMT5</th>\n",
       "      <th>PAY_AMT6</th>\n",
       "      <th>default payment next month</th>\n",
       "    </tr>\n",
       "  </thead>\n",
       "  <tbody>\n",
       "    <tr>\n",
       "      <td>count</td>\n",
       "      <td>30000.000000</td>\n",
       "      <td>30000.000000</td>\n",
       "      <td>30000.000000</td>\n",
       "      <td>30000.000000</td>\n",
       "      <td>30000.000000</td>\n",
       "      <td>30000.000000</td>\n",
       "      <td>30000.000000</td>\n",
       "      <td>30000.000000</td>\n",
       "      <td>30000.000000</td>\n",
       "      <td>30000.000000</td>\n",
       "      <td>...</td>\n",
       "      <td>30000.000000</td>\n",
       "      <td>30000.000000</td>\n",
       "      <td>30000.000000</td>\n",
       "      <td>30000.000000</td>\n",
       "      <td>3.000000e+04</td>\n",
       "      <td>30000.00000</td>\n",
       "      <td>30000.000000</td>\n",
       "      <td>30000.000000</td>\n",
       "      <td>30000.000000</td>\n",
       "      <td>30000.000000</td>\n",
       "    </tr>\n",
       "    <tr>\n",
       "      <td>mean</td>\n",
       "      <td>15000.500000</td>\n",
       "      <td>167484.322667</td>\n",
       "      <td>1.603733</td>\n",
       "      <td>1.853133</td>\n",
       "      <td>1.551867</td>\n",
       "      <td>35.485500</td>\n",
       "      <td>-0.016700</td>\n",
       "      <td>-0.133767</td>\n",
       "      <td>-0.166200</td>\n",
       "      <td>-0.220667</td>\n",
       "      <td>...</td>\n",
       "      <td>43262.948967</td>\n",
       "      <td>40311.400967</td>\n",
       "      <td>38871.760400</td>\n",
       "      <td>5663.580500</td>\n",
       "      <td>5.921163e+03</td>\n",
       "      <td>5225.68150</td>\n",
       "      <td>4826.076867</td>\n",
       "      <td>4799.387633</td>\n",
       "      <td>5215.502567</td>\n",
       "      <td>0.221200</td>\n",
       "    </tr>\n",
       "    <tr>\n",
       "      <td>std</td>\n",
       "      <td>8660.398374</td>\n",
       "      <td>129747.661567</td>\n",
       "      <td>0.489129</td>\n",
       "      <td>0.790349</td>\n",
       "      <td>0.521970</td>\n",
       "      <td>9.217904</td>\n",
       "      <td>1.123802</td>\n",
       "      <td>1.197186</td>\n",
       "      <td>1.196868</td>\n",
       "      <td>1.169139</td>\n",
       "      <td>...</td>\n",
       "      <td>64332.856134</td>\n",
       "      <td>60797.155770</td>\n",
       "      <td>59554.107537</td>\n",
       "      <td>16563.280354</td>\n",
       "      <td>2.304087e+04</td>\n",
       "      <td>17606.96147</td>\n",
       "      <td>15666.159744</td>\n",
       "      <td>15278.305679</td>\n",
       "      <td>17777.465775</td>\n",
       "      <td>0.415062</td>\n",
       "    </tr>\n",
       "    <tr>\n",
       "      <td>min</td>\n",
       "      <td>1.000000</td>\n",
       "      <td>10000.000000</td>\n",
       "      <td>1.000000</td>\n",
       "      <td>0.000000</td>\n",
       "      <td>0.000000</td>\n",
       "      <td>21.000000</td>\n",
       "      <td>-2.000000</td>\n",
       "      <td>-2.000000</td>\n",
       "      <td>-2.000000</td>\n",
       "      <td>-2.000000</td>\n",
       "      <td>...</td>\n",
       "      <td>-170000.000000</td>\n",
       "      <td>-81334.000000</td>\n",
       "      <td>-339603.000000</td>\n",
       "      <td>0.000000</td>\n",
       "      <td>0.000000e+00</td>\n",
       "      <td>0.00000</td>\n",
       "      <td>0.000000</td>\n",
       "      <td>0.000000</td>\n",
       "      <td>0.000000</td>\n",
       "      <td>0.000000</td>\n",
       "    </tr>\n",
       "    <tr>\n",
       "      <td>25%</td>\n",
       "      <td>7500.750000</td>\n",
       "      <td>50000.000000</td>\n",
       "      <td>1.000000</td>\n",
       "      <td>1.000000</td>\n",
       "      <td>1.000000</td>\n",
       "      <td>28.000000</td>\n",
       "      <td>-1.000000</td>\n",
       "      <td>-1.000000</td>\n",
       "      <td>-1.000000</td>\n",
       "      <td>-1.000000</td>\n",
       "      <td>...</td>\n",
       "      <td>2326.750000</td>\n",
       "      <td>1763.000000</td>\n",
       "      <td>1256.000000</td>\n",
       "      <td>1000.000000</td>\n",
       "      <td>8.330000e+02</td>\n",
       "      <td>390.00000</td>\n",
       "      <td>296.000000</td>\n",
       "      <td>252.500000</td>\n",
       "      <td>117.750000</td>\n",
       "      <td>0.000000</td>\n",
       "    </tr>\n",
       "    <tr>\n",
       "      <td>50%</td>\n",
       "      <td>15000.500000</td>\n",
       "      <td>140000.000000</td>\n",
       "      <td>2.000000</td>\n",
       "      <td>2.000000</td>\n",
       "      <td>2.000000</td>\n",
       "      <td>34.000000</td>\n",
       "      <td>0.000000</td>\n",
       "      <td>0.000000</td>\n",
       "      <td>0.000000</td>\n",
       "      <td>0.000000</td>\n",
       "      <td>...</td>\n",
       "      <td>19052.000000</td>\n",
       "      <td>18104.500000</td>\n",
       "      <td>17071.000000</td>\n",
       "      <td>2100.000000</td>\n",
       "      <td>2.009000e+03</td>\n",
       "      <td>1800.00000</td>\n",
       "      <td>1500.000000</td>\n",
       "      <td>1500.000000</td>\n",
       "      <td>1500.000000</td>\n",
       "      <td>0.000000</td>\n",
       "    </tr>\n",
       "    <tr>\n",
       "      <td>75%</td>\n",
       "      <td>22500.250000</td>\n",
       "      <td>240000.000000</td>\n",
       "      <td>2.000000</td>\n",
       "      <td>2.000000</td>\n",
       "      <td>2.000000</td>\n",
       "      <td>41.000000</td>\n",
       "      <td>0.000000</td>\n",
       "      <td>0.000000</td>\n",
       "      <td>0.000000</td>\n",
       "      <td>0.000000</td>\n",
       "      <td>...</td>\n",
       "      <td>54506.000000</td>\n",
       "      <td>50190.500000</td>\n",
       "      <td>49198.250000</td>\n",
       "      <td>5006.000000</td>\n",
       "      <td>5.000000e+03</td>\n",
       "      <td>4505.00000</td>\n",
       "      <td>4013.250000</td>\n",
       "      <td>4031.500000</td>\n",
       "      <td>4000.000000</td>\n",
       "      <td>0.000000</td>\n",
       "    </tr>\n",
       "    <tr>\n",
       "      <td>max</td>\n",
       "      <td>30000.000000</td>\n",
       "      <td>1000000.000000</td>\n",
       "      <td>2.000000</td>\n",
       "      <td>6.000000</td>\n",
       "      <td>3.000000</td>\n",
       "      <td>79.000000</td>\n",
       "      <td>8.000000</td>\n",
       "      <td>8.000000</td>\n",
       "      <td>8.000000</td>\n",
       "      <td>8.000000</td>\n",
       "      <td>...</td>\n",
       "      <td>891586.000000</td>\n",
       "      <td>927171.000000</td>\n",
       "      <td>961664.000000</td>\n",
       "      <td>873552.000000</td>\n",
       "      <td>1.684259e+06</td>\n",
       "      <td>896040.00000</td>\n",
       "      <td>621000.000000</td>\n",
       "      <td>426529.000000</td>\n",
       "      <td>528666.000000</td>\n",
       "      <td>1.000000</td>\n",
       "    </tr>\n",
       "  </tbody>\n",
       "</table>\n",
       "<p>8 rows × 25 columns</p>\n",
       "</div>"
      ],
      "text/plain": [
       "                 ID       LIMIT_BAL           SEX     EDUCATION      MARRIAGE  \\\n",
       "count  30000.000000    30000.000000  30000.000000  30000.000000  30000.000000   \n",
       "mean   15000.500000   167484.322667      1.603733      1.853133      1.551867   \n",
       "std     8660.398374   129747.661567      0.489129      0.790349      0.521970   \n",
       "min        1.000000    10000.000000      1.000000      0.000000      0.000000   \n",
       "25%     7500.750000    50000.000000      1.000000      1.000000      1.000000   \n",
       "50%    15000.500000   140000.000000      2.000000      2.000000      2.000000   \n",
       "75%    22500.250000   240000.000000      2.000000      2.000000      2.000000   \n",
       "max    30000.000000  1000000.000000      2.000000      6.000000      3.000000   \n",
       "\n",
       "                AGE         PAY_0         PAY_2         PAY_3         PAY_4  \\\n",
       "count  30000.000000  30000.000000  30000.000000  30000.000000  30000.000000   \n",
       "mean      35.485500     -0.016700     -0.133767     -0.166200     -0.220667   \n",
       "std        9.217904      1.123802      1.197186      1.196868      1.169139   \n",
       "min       21.000000     -2.000000     -2.000000     -2.000000     -2.000000   \n",
       "25%       28.000000     -1.000000     -1.000000     -1.000000     -1.000000   \n",
       "50%       34.000000      0.000000      0.000000      0.000000      0.000000   \n",
       "75%       41.000000      0.000000      0.000000      0.000000      0.000000   \n",
       "max       79.000000      8.000000      8.000000      8.000000      8.000000   \n",
       "\n",
       "       ...      BILL_AMT4      BILL_AMT5      BILL_AMT6       PAY_AMT1  \\\n",
       "count  ...   30000.000000   30000.000000   30000.000000   30000.000000   \n",
       "mean   ...   43262.948967   40311.400967   38871.760400    5663.580500   \n",
       "std    ...   64332.856134   60797.155770   59554.107537   16563.280354   \n",
       "min    ... -170000.000000  -81334.000000 -339603.000000       0.000000   \n",
       "25%    ...    2326.750000    1763.000000    1256.000000    1000.000000   \n",
       "50%    ...   19052.000000   18104.500000   17071.000000    2100.000000   \n",
       "75%    ...   54506.000000   50190.500000   49198.250000    5006.000000   \n",
       "max    ...  891586.000000  927171.000000  961664.000000  873552.000000   \n",
       "\n",
       "           PAY_AMT2      PAY_AMT3       PAY_AMT4       PAY_AMT5  \\\n",
       "count  3.000000e+04   30000.00000   30000.000000   30000.000000   \n",
       "mean   5.921163e+03    5225.68150    4826.076867    4799.387633   \n",
       "std    2.304087e+04   17606.96147   15666.159744   15278.305679   \n",
       "min    0.000000e+00       0.00000       0.000000       0.000000   \n",
       "25%    8.330000e+02     390.00000     296.000000     252.500000   \n",
       "50%    2.009000e+03    1800.00000    1500.000000    1500.000000   \n",
       "75%    5.000000e+03    4505.00000    4013.250000    4031.500000   \n",
       "max    1.684259e+06  896040.00000  621000.000000  426529.000000   \n",
       "\n",
       "            PAY_AMT6  default payment next month  \n",
       "count   30000.000000                30000.000000  \n",
       "mean     5215.502567                    0.221200  \n",
       "std     17777.465775                    0.415062  \n",
       "min         0.000000                    0.000000  \n",
       "25%       117.750000                    0.000000  \n",
       "50%      1500.000000                    0.000000  \n",
       "75%      4000.000000                    0.000000  \n",
       "max    528666.000000                    1.000000  \n",
       "\n",
       "[8 rows x 25 columns]"
      ]
     },
     "execution_count": 3,
     "metadata": {},
     "output_type": "execute_result"
    }
   ],
   "source": [
    "credit.describe()\n"
   ]
  },
  {
   "cell_type": "raw",
   "metadata": {},
   "source": [
    "credit.info()\n"
   ]
  },
  {
   "cell_type": "code",
   "execution_count": 4,
   "metadata": {},
   "outputs": [],
   "source": [
    "credit = credit.dropna()"
   ]
  },
  {
   "cell_type": "code",
   "execution_count": 5,
   "metadata": {},
   "outputs": [],
   "source": [
    "header = credit.dtypes.index"
   ]
  },
  {
   "cell_type": "code",
   "execution_count": 6,
   "metadata": {},
   "outputs": [
    {
     "data": {
      "image/png": "[encoded data removed]",
      "text/plain": [
       "<Figure size 432x288 with 1 Axes>"
      ]
     },
     "metadata": {
      "needs_background": "light"
     },
     "output_type": "display_data"
    }
   ],
   "source": [
    "plt.hist(credit['LIMIT_BAL'])\n",
    "plt.show()"
   ]
  },
  {
   "cell_type": "code",
   "execution_count": 7,
   "metadata": {},
   "outputs": [
    {
     "data": {
      "text/plain": [
       "<matplotlib.collections.PathCollection at 0x1219a3d90>"
      ]
     },
     "execution_count": 7,
     "metadata": {},
     "output_type": "execute_result"
    },
    {
     "data": {
      "image/png": "[encoded data removed]",
      "text/plain": [
       "<Figure size 432x288 with 1 Axes>"
      ]
     },
     "metadata": {
      "needs_background": "light"
     },
     "output_type": "display_data"
    }
   ],
   "source": [
    "x = credit['BILL_AMT1']\n",
    "y = credit['PAY_AMT2']\n",
    "\n",
    "plt.scatter(x,y)"
   ]
  },
  {
   "cell_type": "code",
   "execution_count": 8,
   "metadata": {},
   "outputs": [
    {
     "data": {
      "text/plain": [
       "<matplotlib.collections.PathCollection at 0x1219dc050>"
      ]
     },
     "execution_count": 8,
     "metadata": {},
     "output_type": "execute_result"
    },
    {
     "data": {
      "image/png": "[encoded data removed]",
      "text/plain": [
       "<Figure size 432x288 with 1 Axes>"
      ]
     },
     "metadata": {
      "needs_background": "light"
     },
     "output_type": "display_data"
    }
   ],
   "source": [
    "x = credit['PAY_0']\n",
    "y = credit['PAY_2']\n",
    "\n",
    "plt.scatter(x,y)\n"
   ]
  },
  {
   "cell_type": "code",
   "execution_count": 9,
   "metadata": {},
   "outputs": [
    {
     "data": {
      "image/png": "[encoded data removed]",
      "text/plain": [
       "<Figure size 432x288 with 1 Axes>"
      ]
     },
     "metadata": {
      "needs_background": "light"
     },
     "output_type": "display_data"
    }
   ],
   "source": [
    "A = credit['BILL_AMT1']\n",
    "plt.boxplot(A,0,'gD')\n",
    "plt.show()"
   ]
  },
  {
   "cell_type": "code",
   "execution_count": 10,
   "metadata": {},
   "outputs": [
    {
     "name": "stdout",
     "output_type": "stream",
     "text": [
      "                                  ID  LIMIT_BAL       SEX  EDUCATION  \\\n",
      "ID                          1.000000   0.026179  0.018497   0.039177   \n",
      "LIMIT_BAL                   0.026179   1.000000  0.024755  -0.219161   \n",
      "SEX                         0.018497   0.024755  1.000000   0.014232   \n",
      "EDUCATION                   0.039177  -0.219161  0.014232   1.000000   \n",
      "MARRIAGE                   -0.029079  -0.108139 -0.031389  -0.143464   \n",
      "AGE                         0.018678   0.144713 -0.090874   0.175061   \n",
      "PAY_0                      -0.030575  -0.271214 -0.057643   0.105364   \n",
      "PAY_2                      -0.011215  -0.296382 -0.070771   0.121566   \n",
      "PAY_3                      -0.018494  -0.286123 -0.066096   0.114025   \n",
      "PAY_4                      -0.002735  -0.267460 -0.060173   0.108793   \n",
      "PAY_5                      -0.022199  -0.249411 -0.055064   0.097520   \n",
      "PAY_6                      -0.020270  -0.235195 -0.044008   0.082316   \n",
      "BILL_AMT1                   0.019389   0.285430 -0.033642   0.023581   \n",
      "BILL_AMT2                   0.017982   0.278314 -0.031183   0.018749   \n",
      "BILL_AMT3                   0.024354   0.283236 -0.024563   0.013002   \n",
      "BILL_AMT4                   0.040351   0.293988 -0.021880  -0.000451   \n",
      "BILL_AMT5                   0.016705   0.295562 -0.017005  -0.007567   \n",
      "BILL_AMT6                   0.016730   0.290389 -0.016733  -0.009099   \n",
      "PAY_AMT1                    0.009742   0.195236 -0.000242  -0.037456   \n",
      "PAY_AMT2                    0.008406   0.178408 -0.001391  -0.030038   \n",
      "PAY_AMT3                    0.039151   0.210167 -0.008597  -0.039943   \n",
      "PAY_AMT4                    0.007793   0.203242 -0.002229  -0.038218   \n",
      "PAY_AMT5                    0.000652   0.217202 -0.001667  -0.040358   \n",
      "PAY_AMT6                    0.003000   0.219595 -0.002766  -0.037200   \n",
      "default payment next month -0.013952  -0.153520 -0.039961   0.028006   \n",
      "\n",
      "                            MARRIAGE       AGE     PAY_0     PAY_2     PAY_3  \\\n",
      "ID                         -0.029079  0.018678 -0.030575 -0.011215 -0.018494   \n",
      "LIMIT_BAL                  -0.108139  0.144713 -0.271214 -0.296382 -0.286123   \n",
      "SEX                        -0.031389 -0.090874 -0.057643 -0.070771 -0.066096   \n",
      "EDUCATION                  -0.143464  0.175061  0.105364  0.121566  0.114025   \n",
      "MARRIAGE                    1.000000 -0.414170  0.019917  0.024199  0.032688   \n",
      "AGE                        -0.414170  1.000000 -0.039447 -0.050148 -0.053048   \n",
      "PAY_0                       0.019917 -0.039447  1.000000  0.672164  0.574245   \n",
      "PAY_2                       0.024199 -0.050148  0.672164  1.000000  0.766552   \n",
      "PAY_3                       0.032688 -0.053048  0.574245  0.766552  1.000000   \n",
      "PAY_4                       0.033122 -0.049722  0.538841  0.662067  0.777359   \n",
      "PAY_5                       0.035629 -0.053826  0.509426  0.622780  0.686775   \n",
      "PAY_6                       0.034345 -0.048773  0.474553  0.575501  0.632684   \n",
      "BILL_AMT1                  -0.023472  0.056239  0.187068  0.234887  0.208473   \n",
      "BILL_AMT2                  -0.021602  0.054283  0.189859  0.235257  0.237295   \n",
      "BILL_AMT3                  -0.024909  0.053710  0.179785  0.224146  0.227494   \n",
      "BILL_AMT4                  -0.023344  0.051353  0.179125  0.222237  0.227202   \n",
      "BILL_AMT5                  -0.025393  0.049345  0.180635  0.221348  0.225145   \n",
      "BILL_AMT6                  -0.021207  0.047613  0.176980  0.219403  0.222327   \n",
      "PAY_AMT1                   -0.005979  0.026147 -0.079269 -0.080701  0.001295   \n",
      "PAY_AMT2                   -0.008093  0.021785 -0.070101 -0.058990 -0.066793   \n",
      "PAY_AMT3                   -0.003541  0.029247 -0.070561 -0.055901 -0.053311   \n",
      "PAY_AMT4                   -0.012659  0.021379 -0.064005 -0.046858 -0.046067   \n",
      "PAY_AMT5                   -0.001205  0.022850 -0.058190 -0.037093 -0.035863   \n",
      "PAY_AMT6                   -0.006641  0.019478 -0.058673 -0.036500 -0.035861   \n",
      "default payment next month -0.024339  0.013890  0.324794  0.263551  0.235253   \n",
      "\n",
      "                               PAY_4  ...  BILL_AMT4  BILL_AMT5  BILL_AMT6  \\\n",
      "ID                         -0.002735  ...   0.040351   0.016705   0.016730   \n",
      "LIMIT_BAL                  -0.267460  ...   0.293988   0.295562   0.290389   \n",
      "SEX                        -0.060173  ...  -0.021880  -0.017005  -0.016733   \n",
      "EDUCATION                   0.108793  ...  -0.000451  -0.007567  -0.009099   \n",
      "MARRIAGE                    0.033122  ...  -0.023344  -0.025393  -0.021207   \n",
      "AGE                        -0.049722  ...   0.051353   0.049345   0.047613   \n",
      "PAY_0                       0.538841  ...   0.179125   0.180635   0.176980   \n",
      "PAY_2                       0.662067  ...   0.222237   0.221348   0.219403   \n",
      "PAY_3                       0.777359  ...   0.227202   0.225145   0.222327   \n",
      "PAY_4                       1.000000  ...   0.245917   0.242902   0.239154   \n",
      "PAY_5                       0.819835  ...   0.271915   0.269783   0.262509   \n",
      "PAY_6                       0.716449  ...   0.266356   0.290894   0.285091   \n",
      "BILL_AMT1                   0.202812  ...   0.860272   0.829779   0.802650   \n",
      "BILL_AMT2                   0.225816  ...   0.892482   0.859778   0.831594   \n",
      "BILL_AMT3                   0.244983  ...   0.923969   0.883910   0.853320   \n",
      "BILL_AMT4                   0.245917  ...   1.000000   0.940134   0.900941   \n",
      "BILL_AMT5                   0.242902  ...   0.940134   1.000000   0.946197   \n",
      "BILL_AMT6                   0.239154  ...   0.900941   0.946197   1.000000   \n",
      "PAY_AMT1                   -0.009362  ...   0.233012   0.217031   0.199965   \n",
      "PAY_AMT2                   -0.001944  ...   0.207564   0.181246   0.172663   \n",
      "PAY_AMT3                   -0.069235  ...   0.300023   0.252305   0.233770   \n",
      "PAY_AMT4                   -0.043461  ...   0.130191   0.293118   0.250237   \n",
      "PAY_AMT5                   -0.033590  ...   0.160433   0.141574   0.307729   \n",
      "PAY_AMT6                   -0.026565  ...   0.177637   0.164184   0.115494   \n",
      "default payment next month  0.216614  ...  -0.010156  -0.006760  -0.005372   \n",
      "\n",
      "                            PAY_AMT1  PAY_AMT2  PAY_AMT3  PAY_AMT4  PAY_AMT5  \\\n",
      "ID                          0.009742  0.008406  0.039151  0.007793  0.000652   \n",
      "LIMIT_BAL                   0.195236  0.178408  0.210167  0.203242  0.217202   \n",
      "SEX                        -0.000242 -0.001391 -0.008597 -0.002229 -0.001667   \n",
      "EDUCATION                  -0.037456 -0.030038 -0.039943 -0.038218 -0.040358   \n",
      "MARRIAGE                   -0.005979 -0.008093 -0.003541 -0.012659 -0.001205   \n",
      "AGE                         0.026147  0.021785  0.029247  0.021379  0.022850   \n",
      "PAY_0                      -0.079269 -0.070101 -0.070561 -0.064005 -0.058190   \n",
      "PAY_2                      -0.080701 -0.058990 -0.055901 -0.046858 -0.037093   \n",
      "PAY_3                       0.001295 -0.066793 -0.053311 -0.046067 -0.035863   \n",
      "PAY_4                      -0.009362 -0.001944 -0.069235 -0.043461 -0.033590   \n",
      "PAY_5                      -0.006089 -0.003191  0.009062 -0.058299 -0.033337   \n",
      "PAY_6                      -0.001496 -0.005223  0.005834  0.019018 -0.046434   \n",
      "BILL_AMT1                   0.140277  0.099355  0.156887  0.158303  0.167026   \n",
      "BILL_AMT2                   0.280365  0.100851  0.150718  0.147398  0.157957   \n",
      "BILL_AMT3                   0.244335  0.316936  0.130011  0.143405  0.179712   \n",
      "BILL_AMT4                   0.233012  0.207564  0.300023  0.130191  0.160433   \n",
      "BILL_AMT5                   0.217031  0.181246  0.252305  0.293118  0.141574   \n",
      "BILL_AMT6                   0.199965  0.172663  0.233770  0.250237  0.307729   \n",
      "PAY_AMT1                    1.000000  0.285576  0.252191  0.199558  0.148459   \n",
      "PAY_AMT2                    0.285576  1.000000  0.244770  0.180107  0.180908   \n",
      "PAY_AMT3                    0.252191  0.244770  1.000000  0.216325  0.159214   \n",
      "PAY_AMT4                    0.199558  0.180107  0.216325  1.000000  0.151830   \n",
      "PAY_AMT5                    0.148459  0.180908  0.159214  0.151830  1.000000   \n",
      "PAY_AMT6                    0.185735  0.157634  0.162740  0.157834  0.154896   \n",
      "default payment next month -0.072929 -0.058579 -0.056250 -0.056827 -0.055124   \n",
      "\n",
      "                            PAY_AMT6  default payment next month  \n",
      "ID                          0.003000                   -0.013952  \n",
      "LIMIT_BAL                   0.219595                   -0.153520  \n",
      "SEX                        -0.002766                   -0.039961  \n",
      "EDUCATION                  -0.037200                    0.028006  \n",
      "MARRIAGE                   -0.006641                   -0.024339  \n",
      "AGE                         0.019478                    0.013890  \n",
      "PAY_0                      -0.058673                    0.324794  \n",
      "PAY_2                      -0.036500                    0.263551  \n",
      "PAY_3                      -0.035861                    0.235253  \n",
      "PAY_4                      -0.026565                    0.216614  \n",
      "PAY_5                      -0.023027                    0.204149  \n",
      "PAY_6                      -0.025299                    0.186866  \n",
      "BILL_AMT1                   0.179341                   -0.019644  \n",
      "BILL_AMT2                   0.174256                   -0.014193  \n",
      "BILL_AMT3                   0.182326                   -0.014076  \n",
      "BILL_AMT4                   0.177637                   -0.010156  \n",
      "BILL_AMT5                   0.164184                   -0.006760  \n",
      "BILL_AMT6                   0.115494                   -0.005372  \n",
      "PAY_AMT1                    0.185735                   -0.072929  \n",
      "PAY_AMT2                    0.157634                   -0.058579  \n",
      "PAY_AMT3                    0.162740                   -0.056250  \n",
      "PAY_AMT4                    0.157834                   -0.056827  \n",
      "PAY_AMT5                    0.154896                   -0.055124  \n",
      "PAY_AMT6                    1.000000                   -0.053183  \n",
      "default payment next month -0.053183                    1.000000  \n",
      "\n",
      "[25 rows x 25 columns]\n"
     ]
    }
   ],
   "source": [
    "corrMat = credit.corr()\n",
    "print(corrMat)"
   ]
  },
  {
   "cell_type": "code",
   "execution_count": 11,
   "metadata": {},
   "outputs": [
    {
     "name": "stdout",
     "output_type": "stream",
     "text": [
      "                                      ID     LIMIT_BAL          SEX  \\\n",
      "ID                          7.500250e+07  2.941664e+07    78.356379   \n",
      "LIMIT_BAL                   2.941664e+07  1.683446e+10  1571.050630   \n",
      "SEX                         7.835638e+01  1.571051e+03     0.239247   \n",
      "EDUCATION                   2.681543e+02 -2.247403e+04     0.005502   \n",
      "MARRIAGE                   -1.314525e+02 -7.323670e+03    -0.008014   \n",
      "AGE                         1.491057e+03  1.730767e+05    -0.409726   \n",
      "PAY_0                      -2.975726e+02 -3.954593e+04    -0.031685   \n",
      "PAY_2                      -1.162770e+02 -4.603765e+04    -0.041442   \n",
      "PAY_3                      -1.916922e+02 -4.443225e+04    -0.038694   \n",
      "PAY_4                      -2.769132e+01 -4.057181e+04    -0.034411   \n",
      "PAY_5                      -2.178600e+02 -3.667056e+04    -0.030521   \n",
      "PAY_6                      -2.018774e+02 -3.509308e+04    -0.024754   \n",
      "BILL_AMT1                   1.236447e+07  2.727020e+09 -1211.694332   \n",
      "BILL_AMT2                   1.108392e+07  2.570130e+09 -1085.595467   \n",
      "BILL_AMT3                   1.462688e+07  2.548533e+09  -833.207432   \n",
      "BILL_AMT4                   2.248126e+07  2.453926e+09  -688.489572   \n",
      "BILL_AMT5                   8.795803e+06  2.331481e+09  -505.694333   \n",
      "BILL_AMT6                   8.628506e+06  2.243837e+09  -487.430160   \n",
      "PAY_AMT1                    1.397501e+06  4.195711e+08    -1.964266   \n",
      "PAY_AMT2                    1.677383e+06  5.333504e+08   -15.675500   \n",
      "PAY_AMT3                    5.969803e+06  4.801180e+08   -74.034812   \n",
      "PAY_AMT4                    1.057334e+06  4.131202e+08   -17.080110   \n",
      "PAY_AMT5                    8.629502e+04  4.305657e+08   -12.458809   \n",
      "PAY_AMT6                    4.618460e+05  5.065153e+08   -24.051885   \n",
      "default payment next month -5.015171e+01 -8.267552e+03    -0.008113   \n",
      "\n",
      "                               EDUCATION     MARRIAGE            AGE  \\\n",
      "ID                            268.154338  -131.452515    1491.057019   \n",
      "LIMIT_BAL                  -22474.028945 -7323.669658  173076.722569   \n",
      "SEX                             0.005502    -0.008014      -0.409726   \n",
      "EDUCATION                       0.624651    -0.059184       1.275380   \n",
      "MARRIAGE                       -0.059184     0.272452      -1.992764   \n",
      "AGE                             1.275380    -1.992764      84.969755   \n",
      "PAY_0                           0.093584     0.011683      -0.408639   \n",
      "PAY_2                           0.115025     0.015122      -0.553408   \n",
      "PAY_3                           0.107861     0.020421      -0.585263   \n",
      "PAY_4                           0.100528     0.020213      -0.535851   \n",
      "PAY_5                           0.087340     0.021074      -0.562245   \n",
      "PAY_6                           0.074816     0.020616      -0.517022   \n",
      "BILL_AMT1                    1372.377644  -902.154685   38172.933546   \n",
      "BILL_AMT2                    1054.657595  -802.517866   35613.657962   \n",
      "BILL_AMT3                     712.664124  -901.679085   34334.251320   \n",
      "BILL_AMT4                     -22.948827  -783.881599   30453.108180   \n",
      "BILL_AMT5                    -363.577664  -805.840875   27654.067800   \n",
      "BILL_AMT6                    -428.274232  -659.223347   26137.648547   \n",
      "PAY_AMT1                     -490.330155   -51.691615    3992.041735   \n",
      "PAY_AMT2                     -547.005021   -97.327974    4626.861549   \n",
      "PAY_AMT3                     -555.834305   -32.546082    4746.824393   \n",
      "PAY_AMT4                     -473.206951  -103.518204    3087.324192   \n",
      "PAY_AMT5                     -487.335947    -9.607709    3218.052172   \n",
      "PAY_AMT6                     -522.673379   -61.623271    3191.903901   \n",
      "default payment next month      0.009187    -0.005273       0.053143   \n",
      "\n",
      "                                   PAY_0         PAY_2         PAY_3  \\\n",
      "ID                           -297.572636   -116.276959   -191.692156   \n",
      "LIMIT_BAL                  -39545.930009 -46037.648360 -44432.253315   \n",
      "SEX                            -0.031685     -0.041442     -0.038694   \n",
      "EDUCATION                       0.093584      0.115025      0.107861   \n",
      "MARRIAGE                        0.011683      0.015122      0.020421   \n",
      "AGE                            -0.408639     -0.553408     -0.585263   \n",
      "PAY_0                           1.262930      0.904330      0.772384   \n",
      "PAY_2                           0.904330      1.433254      1.098371   \n",
      "PAY_3                           0.772384      1.098371      1.432492   \n",
      "PAY_4                           0.707972      0.926680      1.087761   \n",
      "PAY_5                           0.648743      0.844886      0.931455   \n",
      "PAY_6                           0.613292      0.792320      0.870815   \n",
      "BILL_AMT1                   15480.304170  20706.614217  18373.210469   \n",
      "BILL_AMT2                   15185.916919  20045.829482  20214.071495   \n",
      "BILL_AMT3                   14011.556537  18609.510991  18882.491544   \n",
      "BILL_AMT4                   12950.248389  17116.298983  17494.100555   \n",
      "BILL_AMT5                   12341.668685  16110.952468  16382.947539   \n",
      "BILL_AMT6                   11844.759724  15642.875812  15847.089648   \n",
      "PAY_AMT1                    -1475.495089  -1600.240756     25.668468   \n",
      "PAY_AMT2                    -1815.138407  -1627.192336  -1841.952825   \n",
      "PAY_AMT3                    -1396.168258  -1178.331282  -1123.428782   \n",
      "PAY_AMT4                    -1126.847945   -878.843879   -863.762183   \n",
      "PAY_AMT5                     -999.107730   -678.468530   -655.796002   \n",
      "PAY_AMT6                    -1172.193614   -776.835035   -763.026041   \n",
      "default payment next month      0.151499      0.130960      0.116867   \n",
      "\n",
      "                                   PAY_4  ...     BILL_AMT4     BILL_AMT5  \\\n",
      "ID                            -27.691323  ...  2.248126e+07  8.795803e+06   \n",
      "LIMIT_BAL                  -40571.811859  ...  2.453926e+09  2.331481e+09   \n",
      "SEX                            -0.034411  ... -6.884896e+02 -5.056943e+02   \n",
      "EDUCATION                       0.100528  ... -2.294883e+01 -3.635777e+02   \n",
      "MARRIAGE                        0.020213  ... -7.838816e+02 -8.058409e+02   \n",
      "AGE                            -0.535851  ...  3.045311e+04  2.765407e+04   \n",
      "PAY_0                           0.707972  ...  1.295025e+04  1.234167e+04   \n",
      "PAY_2                           0.926680  ...  1.711630e+04  1.611095e+04   \n",
      "PAY_3                           1.087761  ...  1.749410e+04  1.638295e+04   \n",
      "PAY_4                           1.366885  ...  1.849642e+04  1.726555e+04   \n",
      "PAY_5                           1.086161  ...  1.982293e+04  1.858659e+04   \n",
      "PAY_6                           0.963263  ...  1.970555e+04  2.033812e+04   \n",
      "BILL_AMT1                   17460.198259  ...  4.075286e+09  3.714795e+09   \n",
      "BILL_AMT2                   18790.627741  ...  4.086508e+09  3.720401e+09   \n",
      "BILL_AMT3                   19862.999426  ...  4.122238e+09  3.726780e+09   \n",
      "BILL_AMT4                   18496.423186  ...  4.138716e+09  3.677105e+09   \n",
      "BILL_AMT5                   17265.551898  ...  3.677105e+09  3.696294e+09   \n",
      "BILL_AMT6                   16651.586314  ...  3.451762e+09  3.425914e+09   \n",
      "PAY_AMT1                     -181.295613  ...  2.482888e+08  2.185501e+08   \n",
      "PAY_AMT2                      -52.358166  ...  3.076686e+08  2.538936e+08   \n",
      "PAY_AMT3                    -1425.205189  ...  3.398374e+08  2.700805e+08   \n",
      "PAY_AMT4                     -796.035739  ...  1.312133e+08  2.791830e+08   \n",
      "PAY_AMT5                     -599.991629  ...  1.576892e+08  1.315051e+08   \n",
      "PAY_AMT6                     -552.137338  ...  2.031590e+08  1.774537e+08   \n",
      "default payment next month      0.105115  ... -2.711999e+02 -1.705974e+02   \n",
      "\n",
      "                               BILL_AMT6      PAY_AMT1      PAY_AMT2  \\\n",
      "ID                          8.628506e+06  1.397501e+06  1.677383e+06   \n",
      "LIMIT_BAL                   2.243837e+09  4.195711e+08  5.333504e+08   \n",
      "SEX                        -4.874302e+02 -1.964266e+00 -1.567550e+01   \n",
      "EDUCATION                  -4.282742e+02 -4.903302e+02 -5.470050e+02   \n",
      "MARRIAGE                   -6.592233e+02 -5.169161e+01 -9.732797e+01   \n",
      "AGE                         2.613765e+04  3.992042e+03  4.626862e+03   \n",
      "PAY_0                       1.184476e+04 -1.475495e+03 -1.815138e+03   \n",
      "PAY_2                       1.564288e+04 -1.600241e+03 -1.627192e+03   \n",
      "PAY_3                       1.584709e+04  2.566847e+01 -1.841953e+03   \n",
      "PAY_4                       1.665159e+04 -1.812956e+02 -5.235817e+01   \n",
      "PAY_5                       1.771569e+04 -1.142817e+02 -8.332449e+01   \n",
      "PAY_6                       1.952488e+04 -2.850067e+01 -1.383995e+02   \n",
      "BILL_AMT1                   3.519876e+09  1.710894e+08  1.685692e+08   \n",
      "BILL_AMT2                   3.524868e+09  3.305146e+08  1.653859e+08   \n",
      "BILL_AMT3                   3.524247e+09  2.806565e+08  5.064226e+08   \n",
      "BILL_AMT4                   3.451762e+09  2.482888e+08  3.076686e+08   \n",
      "BILL_AMT5                   3.425914e+09  2.185501e+08  2.538936e+08   \n",
      "BILL_AMT6                   3.546692e+09  1.972478e+08  2.369244e+08   \n",
      "PAY_AMT1                    1.972478e+08  2.743423e+08  1.089849e+08   \n",
      "PAY_AMT2                    2.369244e+08  1.089849e+08  5.308817e+08   \n",
      "PAY_AMT3                    2.451233e+08  7.354626e+07  9.929841e+07   \n",
      "PAY_AMT4                    2.334670e+08  5.178189e+07  6.501168e+07   \n",
      "PAY_AMT5                    2.799982e+08  3.756893e+07  6.368414e+07   \n",
      "PAY_AMT6                    1.222761e+08  5.469033e+07  6.456816e+07   \n",
      "default payment next month -1.327963e+02 -5.013746e+02 -5.602107e+02   \n",
      "\n",
      "                                PAY_AMT3      PAY_AMT4      PAY_AMT5  \\\n",
      "ID                          5.969803e+06  1.057334e+06  8.629502e+04   \n",
      "LIMIT_BAL                   4.801180e+08  4.131202e+08  4.305657e+08   \n",
      "SEX                        -7.403481e+01 -1.708011e+01 -1.245881e+01   \n",
      "EDUCATION                  -5.558343e+02 -4.732070e+02 -4.873359e+02   \n",
      "MARRIAGE                   -3.254608e+01 -1.035182e+02 -9.607709e+00   \n",
      "AGE                         4.746824e+03  3.087324e+03  3.218052e+03   \n",
      "PAY_0                      -1.396168e+03 -1.126848e+03 -9.991077e+02   \n",
      "PAY_2                      -1.178331e+03 -8.788439e+02 -6.784685e+02   \n",
      "PAY_3                      -1.123429e+03 -8.637622e+02 -6.557960e+02   \n",
      "PAY_4                      -1.425205e+03 -7.960357e+02 -5.999916e+02   \n",
      "PAY_5                       1.808121e+02 -1.034962e+03 -5.771610e+02   \n",
      "PAY_6                       1.181210e+02  3.426237e+02 -8.158327e+02   \n",
      "BILL_AMT1                   2.034048e+08  1.826164e+08  1.879091e+08   \n",
      "BILL_AMT2                   1.888731e+08  1.643518e+08  1.717652e+08   \n",
      "BILL_AMT3                   1.587478e+08  1.558003e+08  1.904126e+08   \n",
      "BILL_AMT4                   3.398374e+08  1.312133e+08  1.576892e+08   \n",
      "BILL_AMT5                   2.700805e+08  2.791830e+08  1.315051e+08   \n",
      "BILL_AMT6                   2.451233e+08  2.334670e+08  2.799982e+08   \n",
      "PAY_AMT1                    7.354626e+07  5.178189e+07  3.756893e+07   \n",
      "PAY_AMT2                    9.929841e+07  6.501168e+07  6.368414e+07   \n",
      "PAY_AMT3                    3.100051e+08  5.966970e+07  4.282921e+07   \n",
      "PAY_AMT4                    5.966970e+07  2.454286e+08  3.634098e+07   \n",
      "PAY_AMT5                    4.282921e+07  3.634098e+07  2.334266e+08   \n",
      "PAY_AMT6                    5.093879e+07  4.395747e+07  4.207110e+07   \n",
      "default payment next month -4.110763e+02 -3.695159e+02 -3.495625e+02   \n",
      "\n",
      "                                PAY_AMT6  default payment next month  \n",
      "ID                          4.618460e+05                  -50.151705  \n",
      "LIMIT_BAL                   5.065153e+08                -8267.551759  \n",
      "SEX                        -2.405188e+01                   -0.008113  \n",
      "EDUCATION                  -5.226734e+02                    0.009187  \n",
      "MARRIAGE                   -6.162327e+01                   -0.005273  \n",
      "AGE                         3.191904e+03                    0.053143  \n",
      "PAY_0                      -1.172194e+03                    0.151499  \n",
      "PAY_2                      -7.768350e+02                    0.130960  \n",
      "PAY_3                      -7.630260e+02                    0.116867  \n",
      "PAY_4                      -5.521373e+02                    0.105115  \n",
      "PAY_5                      -4.638926e+02                    0.096020  \n",
      "PAY_6                      -5.172163e+02                    0.089194  \n",
      "BILL_AMT1                   2.347681e+08                 -600.394108  \n",
      "BILL_AMT2                   2.204845e+08                 -419.289137  \n",
      "BILL_AMT3                   2.247817e+08                 -405.153680  \n",
      "BILL_AMT4                   2.031590e+08                 -271.199885  \n",
      "BILL_AMT5                   1.774537e+08                 -170.597447  \n",
      "BILL_AMT6                   1.222761e+08                 -132.796294  \n",
      "PAY_AMT1                    5.469033e+07                 -501.374552  \n",
      "PAY_AMT2                    6.456816e+07                 -560.210740  \n",
      "PAY_AMT3                    5.093879e+07                 -411.076284  \n",
      "PAY_AMT4                    4.395747e+07                 -369.515887  \n",
      "PAY_AMT5                    4.207110e+07                 -349.562530  \n",
      "PAY_AMT6                    3.160383e+08                 -392.426415  \n",
      "default payment next month -3.924264e+02                    0.172276  \n",
      "\n",
      "[25 rows x 25 columns]\n"
     ]
    }
   ],
   "source": [
    "covMat = credit.cov()\n",
    "print(covMat)"
   ]
  },
  {
   "cell_type": "code",
   "execution_count": 12,
   "metadata": {},
   "outputs": [
    {
     "data": {
      "text/plain": [
       "SEX\n",
       "1    11888\n",
       "2    18112\n",
       "Name: SEX, dtype: int64"
      ]
     },
     "execution_count": 12,
     "metadata": {},
     "output_type": "execute_result"
    }
   ],
   "source": [
    "credit.groupby('SEX')['SEX'].count()\n"
   ]
  },
  {
   "cell_type": "code",
   "execution_count": 13,
   "metadata": {},
   "outputs": [
    {
     "data": {
      "text/plain": [
       "EDUCATION\n",
       "0       14\n",
       "1    10585\n",
       "2    14030\n",
       "3     4917\n",
       "4      123\n",
       "5      280\n",
       "6       51\n",
       "Name: EDUCATION, dtype: int64"
      ]
     },
     "execution_count": 13,
     "metadata": {},
     "output_type": "execute_result"
    }
   ],
   "source": [
    "credit.groupby('EDUCATION')['EDUCATION'].count()\n"
   ]
  },
  {
   "cell_type": "code",
   "execution_count": 14,
   "metadata": {},
   "outputs": [],
   "source": [
    "credit.rename(columns={'default payment next month':'DEFAULT'}, inplace=True)\n"
   ]
  },
  {
   "cell_type": "code",
   "execution_count": 15,
   "metadata": {},
   "outputs": [
    {
     "data": {
      "text/plain": [
       "EDUCATION  DEFAULT\n",
       "0          0             14\n",
       "1          0           8549\n",
       "           1           2036\n",
       "2          0          10700\n",
       "           1           3330\n",
       "3          0           3680\n",
       "           1           1237\n",
       "4          0            116\n",
       "           1              7\n",
       "5          0            262\n",
       "           1             18\n",
       "6          0             43\n",
       "           1              8\n",
       "Name: EDUCATION, dtype: int64"
      ]
     },
     "execution_count": 15,
     "metadata": {},
     "output_type": "execute_result"
    }
   ],
   "source": [
    "credit.groupby(['EDUCATION', 'DEFAULT'])['EDUCATION'].count()\n"
   ]
  },
  {
   "cell_type": "code",
   "execution_count": 16,
   "metadata": {},
   "outputs": [
    {
     "data": {
      "text/plain": [
       "<seaborn.axisgrid.FacetGrid at 0x10da27b50>"
      ]
     },
     "execution_count": 16,
     "metadata": {},
     "output_type": "execute_result"
    },
    {
     "data": {
      "image/png": "[encoded data removed]",
      "text/plain": [
       "<Figure size 697.25x360 with 1 Axes>"
      ]
     },
     "metadata": {
      "needs_background": "light"
     },
     "output_type": "display_data"
    }
   ],
   "source": [
    "g = sns.catplot('DEFAULT', data=credit, hue='EDUCATION', kind='count', aspect=1.75)\n",
    "g.set_xlabels('Default')\n",
    "\n"
   ]
  },
  {
   "cell_type": "code",
   "execution_count": 17,
   "metadata": {},
   "outputs": [
    {
     "data": {
      "text/plain": [
       "count    30000.000000\n",
       "mean        35.485500\n",
       "std          9.217904\n",
       "min         21.000000\n",
       "25%         28.000000\n",
       "50%         34.000000\n",
       "75%         41.000000\n",
       "max         79.000000\n",
       "Name: AGE, dtype: float64"
      ]
     },
     "execution_count": 17,
     "metadata": {},
     "output_type": "execute_result"
    }
   ],
   "source": [
    "credit.AGE.describe()\n"
   ]
  },
  {
   "cell_type": "code",
   "execution_count": 18,
   "metadata": {},
   "outputs": [
    {
     "data": {
      "text/plain": [
       "Text(0.5, 1.0, 'Age Distribution')"
      ]
     },
     "execution_count": 18,
     "metadata": {},
     "output_type": "execute_result"
    },
    {
     "data": {
      "image/png": "[encoded data removed]",
      "text/plain": [
       "<Figure size 432x288 with 1 Axes>"
      ]
     },
     "metadata": {
      "needs_background": "light"
     },
     "output_type": "display_data"
    }
   ],
   "source": [
    "age = credit['AGE'].dropna()\n",
    "age_dist = sns.distplot(age)\n",
    "age_dist.set_title(\"Age Distribution\")\n"
   ]
  },
  {
   "cell_type": "code",
   "execution_count": 19,
   "metadata": {},
   "outputs": [
    {
     "data": {
      "text/plain": [
       "<seaborn.axisgrid.FacetGrid at 0x122a24110>"
      ]
     },
     "execution_count": 19,
     "metadata": {},
     "output_type": "execute_result"
    },
    {
     "data": {
      "image/png": "[encoded data removed]",
      "text/plain": [
       "<Figure size 917.484x216 with 1 Axes>"
      ]
     },
     "metadata": {
      "needs_background": "light"
     },
     "output_type": "display_data"
    }
   ],
   "source": [
    "fig = sns.FacetGrid(credit, hue='DEFAULT', aspect=4)\n",
    "fig.map(sns.kdeplot, 'AGE', shade=True)\n",
    "oldest = credit['AGE'].max()\n",
    "fig.set(xlim=(0,oldest))\n",
    "fig.set(title='Distribution of Age Grouped by whether customer defaulted on payment')\n",
    "fig.add_legend()"
   ]
  },
  {
   "cell_type": "code",
   "execution_count": 21,
   "metadata": {},
   "outputs": [
    {
     "data": {
      "text/plain": [
       "<seaborn.axisgrid.FacetGrid at 0x118825c90>"
      ]
     },
     "execution_count": 21,
     "metadata": {},
     "output_type": "execute_result"
    },
    {
     "data": {
      "image/png": "[encoded data removed]",
      "text/plain": [
       "<Figure size 2562.38x360 with 7 Axes>"
      ]
     },
     "metadata": {
      "needs_background": "light"
     },
     "output_type": "display_data"
    }
   ],
   "source": [
    "sns.catplot('DEFAULT', data=credit, hue='SEX', kind='count', palette='Pastel2', hue_order=range(1,3),\n",
    "              col='EDUCATION')"
   ]
  },
  {
   "cell_type": "code",
   "execution_count": 24,
   "metadata": {},
   "outputs": [
    {
     "data": {
      "text/plain": [
       "<seaborn.axisgrid.FacetGrid at 0x10e699c50>"
      ]
     },
     "execution_count": 24,
     "metadata": {},
     "output_type": "execute_result"
    },
    {
     "data": {
      "image/png": "[encoded data removed]",
      "text/plain": [
       "<Figure size 402.375x360 with 1 Axes>"
      ]
     },
     "metadata": {
      "needs_background": "light"
     },
     "output_type": "display_data"
    }
   ],
   "source": [
    "sns.lmplot('BILL_AMT1', 'DEFAULT', hue='SEX', data=credit, palette='winter', hue_order=range(1,3))"
   ]
  },
  {
   "cell_type": "code",
   "execution_count": null,
   "metadata": {},
   "outputs": [],
   "source": []
  }
 ],
 "metadata": {
  "kernelspec": {
   "display_name": "Python 3",
   "language": "python",
   "name": "python3"
  },
  "language_info": {
   "codemirror_mode": {
    "name": "ipython",
    "version": 3
   },
   "file_extension": ".py",
   "mimetype": "text/x-python",
   "name": "python",
   "nbconvert_exporter": "python",
   "pygments_lexer": "ipython3",
   "version": "3.7.4"
  }
 },
 "nbformat": 4,
 "nbformat_minor": 2
}
